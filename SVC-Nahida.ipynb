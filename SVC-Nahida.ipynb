{
  "nbformat": 4,
  "nbformat_minor": 0,
  "metadata": {
    "colab": {
      "provenance": []
    },
    "kernelspec": {
      "name": "python3",
      "display_name": "Python 3"
    },
    "language_info": {
      "name": "python"
    },
    "accelerator": "GPU",
    "gpuClass": "standard"
  },
  "cells": [
    {
      "cell_type": "code",
      "source": [
        "# 查看显卡\n",
        "!nvidia-smi"
      ],
      "metadata": {
        "id": "0gQcIZ8RsOkn"
      },
      "execution_count": null,
      "outputs": []
    },
    {
      "cell_type": "code",
      "source": [
        "#@title 克隆github仓库\n",
        "!rm -rf /content/*\n",
        "\n",
        "%cd /content/\n",
        "\n",
        "!git lfs install\n",
        "!git clone https://huggingface.co/spaces/YH-Official/SVC-Nahida\n",
        "\n",
        "%cd /content/SVC-Nahida\n",
        "!pip uninstall -y torchdata torchtext\n",
        "!pip install --upgrade llvmlite\n",
        "!pip install paddleaudio visualdl onnxruntime\n",
        "!python -m pip install paddlepaddle-gpu==2.6.1.post117 -f https://www.paddlepaddle.org.cn/whl/linux/mkl/avx/stable.html\n",
        "!pip install --upgrade pip setuptools numpy numba\n",
        "!pip install pyworld praat-parselmouth fairseq tensorboardX torchcrepe librosa==0.9.1\n",
        "!pip install torch==1.13.1+cu117 torchvision==0.14.1+cu117 torchaudio==0.13.1+cu117 --extra-index-url https://download.pytorch.org/whl/cu117"
      ],
      "metadata": {
        "id": "0YUGpYrXhMck"
      },
      "execution_count": null,
      "outputs": []
    },
    {
      "cell_type": "markdown",
      "source": [
        "# 推理"
      ],
      "metadata": {
        "id": "oCnbX-OT897k"
      }
    },
    {
      "cell_type": "code",
      "source": [
        "#@title 上传.wav音频文件\n",
        "import os\n",
        "from google.colab import files\n",
        "\n",
        "save_dir = \"/content/SVC-Nahida/raw\"\n",
        "if not os.path.exists(save_dir):\n",
        "    os.makedirs(save_dir)\n",
        "\n",
        "uploaded = files.upload()\n",
        "file_name = list(uploaded.keys())[0]\n",
        "file_path = os.path.join(save_dir, file_name)\n",
        "with open(file_path, \"wb\") as f:\n",
        "    f.write(uploaded[file_name])\n",
        "print(f\"File saved at: {file_path}\")\n"
      ],
      "metadata": {
        "id": "RLn0mxtCegv1"
      },
      "execution_count": null,
      "outputs": []
    },
    {
      "cell_type": "code",
      "source": [
        "#@title 合成音频（推理）修改\n",
        "#@markdown 需要将音频上传到SVC-Nahida/raw 文件夹下, 然后设置模型路径、配置文件路径、合成的音频名称\n",
        "model_path = \"trained_models/纳西妲.pdparams\" #@param {type:\"string\"}\n",
        "config_path = \"trained_models/config.json\" #@param {type:\"string\"}\n",
        "clean_names = \"1.wav\" # @param {type:\"string\"}\n",
        "spk_list = \"Nahida\" #@param {type:\"string\"}\n",
        "trans = \"0\"  #@param {type:\"string\"}\n",
        "#@markdown **聚类音色泄漏控制**\n",
        "\n",
        "#@markdown 0为完全不使用聚类，1为只使用聚类，通常设置0.5即可\n",
        "cluster_infer_ratio = \"0\"  #@param {type:\"string\"}\n",
        "slice_db = \"-40\"  #@param {type:\"string\"}\n",
        "wav_format = \"wav\"  #@param {type:\"string\"}\n",
        "wav_output = \"/content/SVC-Nahida/results/\" + clean_names + \"_\" + trans + \"key\" + \"_\" + spk_list + \".\" + wav_format\n",
        "\n",
        "!python inference_main.py -m {model_path} -c {config_path} -n \"{clean_names}\" -t {trans} -s {spk_list}  -cr {cluster_infer_ratio} -sd {slice_db} -wf {wav_format}\n",
        "\n",
        "#@markdown 如果你不想在此处下载，请取消勾选。\n",
        "download_after_inference = True  #@param {type:\"boolean\"}\n",
        "\n",
        "if download_after_inference:\n",
        "  from google.colab import files\n",
        "  files.download(wav_output)"
      ],
      "metadata": {
        "id": "UIsP6nm7fXrs"
      },
      "execution_count": null,
      "outputs": []
    }
  ]
}